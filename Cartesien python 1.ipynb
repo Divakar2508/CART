{
 "cells": [
  {
   "cell_type": "code",
   "execution_count": 18,
   "id": "658b92ca",
   "metadata": {},
   "outputs": [
    {
     "name": "stdout",
     "output_type": "stream",
     "text": [
      "Enter a sentence: This declaration represents a political commitment among declaration partners to advance a  positive vision for the Internet in this era of a united europe\n",
      "Europe united a of era this in Internet the for vision positive a advance to partners declaration among commitment political a represents declaration this\n",
      "a: 3 times\n",
      "this: 2 times\n"
     ]
    }
   ],
   "source": [
    "from collections import Counter\n",
    "\n",
    "sentence=input(\"Enter a sentence: \")\n",
    "l=sentence.split()\n",
    "l[0]=l[0].lower()\n",
    "l[-1]=l[-1].capitalize()\n",
    "l.reverse()\n",
    "print(\" \".join(l))\n",
    "Counter = Counter(l)\n",
    "occurrence = Counter.most_common(2)\n",
    "print(f\"{occurrence[0][0]}: {occurrence[0][1]} times\")\n",
    "print(f\"{occurrence[1][0]}: {occurrence[1][1]} times\")"
   ]
  }
 ],
 "metadata": {
  "kernelspec": {
   "display_name": "Python 3 (ipykernel)",
   "language": "python",
   "name": "python3"
  },
  "language_info": {
   "codemirror_mode": {
    "name": "ipython",
    "version": 3
   },
   "file_extension": ".py",
   "mimetype": "text/x-python",
   "name": "python",
   "nbconvert_exporter": "python",
   "pygments_lexer": "ipython3",
   "version": "3.9.7"
  }
 },
 "nbformat": 4,
 "nbformat_minor": 5
}
